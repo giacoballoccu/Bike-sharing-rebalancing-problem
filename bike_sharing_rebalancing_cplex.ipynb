{
 "cells": [
  {
   "cell_type": "markdown",
   "metadata": {},
   "source": [
    "# Bike Sharing Rebalancing Problem"
   ]
  },
  {
   "cell_type": "markdown",
   "metadata": {},
   "source": [
    "The following implementation is derivated from the following paper: https://www.sciencedirect.com/science/article/abs/pii/S0305048313001187\n"
   ]
  },
  {
   "cell_type": "markdown",
   "metadata": {},
   "source": [
    "## Introduction"
   ]
  },
  {
   "cell_type": "markdown",
   "metadata": {},
   "source": [
    "| Variable Name  | Description |\n",
    "| ------------- | ------------- |\n",
    "| <i>V</i>   | Set of vertices |\n",
    "| <i>A</i>   | Set of arcs  |\n",
    "| <i>n</i>   | Number of stations |\n",
    "| <i>m</i>   |  Number of vehicles  |\n",
    "| <i>Q</i>   | Vehicle capacity |\n",
    "| <i>q<sub>i</sub></i>  |  Demand at vertex i  |\n",
    "| <i>c<sub>ij</sub></i>  |  Cost of arc (i,j)  |"
   ]
  },
  {
   "cell_type": "code",
   "execution_count": 96,
   "metadata": {},
   "outputs": [
    {
     "name": "stderr",
     "output_type": "stream",
     "text": [
      "c:\\python37\\lib\\site-packages\\docplex\\mp\\__init__.py:35: RuntimeWarning: docplex is not officially supported on 32 bits. Use it at your own risk.\n",
      "  warnings.warn(\"docplex is not officially supported on 32 bits. Use it at your own risk.\", RuntimeWarning)\n"
     ]
    }
   ],
   "source": [
    "#Importing cplex API\n",
    "import sys\n",
    "try:\n",
    "    import docplex.cp\n",
    "except:\n",
    "    if hasattr(sys, 'real_prefix'):\n",
    "        #we are in a virtual env.\n",
    "        !pip install docplex\n",
    "    else:\n",
    "        !pip install --user docplex# Bike Sharing Rebalancing Problem\n",
    "        \n",
    "#Importing numpy and random generator\n",
    "import numpy as np\n",
    "rand = np.random\n",
    "\n",
    "#Importing pyplot\n",
    "import matplotlib.pyplot as plt\n",
    "\n",
    "#Importing docplex model\n",
    "from docplex.mp.model import Model"
   ]
  },
  {
   "cell_type": "code",
   "execution_count": 89,
   "metadata": {},
   "outputs": [],
   "source": [
    "#Initial values\n",
    "n = 8                                          # amount of stations (Reggio-Emilia)\n",
    "m = 2                                            # amount of vehicles\n",
    "Q = 10                                           # vehicles capacity\n",
    "V = [0] + [i for i in range(1, n+2)]           # stations(including starting deposit and end deposit)\n",
    "A = [(i, j) for i in V for j in V]               # edges\n",
    "q = {i: rand.randint(-Q, Q) for i in V}           # demand along edges\n",
    "q[0] = 0"
   ]
  },
  {
   "cell_type": "code",
   "execution_count": 90,
   "metadata": {},
   "outputs": [
    {
     "data": {
      "text/plain": [
       "array([[386.11150917, 463.58714415],\n",
       "       [307.32601362, 304.53188462],\n",
       "       [342.34243285, 125.50648371],\n",
       "       [418.9188184 ,  59.30780848],\n",
       "       [398.61737088, 474.50213374],\n",
       "       [ 74.0314382 , 453.43599243],\n",
       "       [394.18666273, 384.20292067],\n",
       "       [299.24824151, 221.07280877],\n",
       "       [361.51900991, 208.30912472],\n",
       "       [113.40519772, 227.11367046]])"
      ]
     },
     "execution_count": 90,
     "metadata": {},
     "output_type": "execute_result"
    }
   ],
   "source": [
    "# Generating random coordinates and computing the distances using euclidian distance\n",
    "coord = rand.rand(len(V), 2) * 500\n",
    "\n",
    "c = {(i, j): \n",
    "        np.hypot(coord[i][0]-coord[j][0], coord[i][1]-coord[j][1]) \n",
    "             for i, j in A}       \n",
    "\n",
    "coord"
   ]
  },
  {
   "cell_type": "code",
   "execution_count": 94,
   "metadata": {},
   "outputs": [
    {
     "data": {
      "text/plain": [
       "(56.78706919532611, 436.16318740643374, 38.54809221263755, 495.26185000265906)"
      ]
     },
     "execution_count": 94,
     "metadata": {},
     "output_type": "execute_result"
    },
    {
     "data": {
      "image/png": "[encoded data removed]",
      "text/plain": [
       "<Figure size 432x288 with 1 Axes>"
      ]
     },
     "metadata": {
      "needs_background": "light"
     },
     "output_type": "display_data"
    }
   ],
   "source": [
    "for point in coord[1:]:   \n",
    "    plt.scatter(point[0], point[1], c='b')\n",
    "\n",
    "for i in V:\n",
    "    plt.annotate('$q_%d=%d$' % (i, q[i]), (coord[i][0], coord[i][1]+10))\n",
    "\n",
    "end = len(V) -1 #Ending deposit index\n",
    "plt.plot(coord[0][0], coord[0][1], c='r', marker='s') #marker=(5, 1)\n",
    "plt.plot(coord[end][0], coord[end][1], c='r', marker='s') \n",
    "plt.axis('equal')"
   ]
  },
  {
   "cell_type": "code",
   "execution_count": 97,
   "metadata": {},
   "outputs": [],
   "source": [
    "f4 = Model('Formulation-F4')\n"
   ]
  },
  {
   "cell_type": "code",
   "execution_count": 5,
   "metadata": {},
   "outputs": [],
   "source": []
  },
  {
   "cell_type": "code",
   "execution_count": 44,
   "metadata": {},
   "outputs": [
    {
     "data": {
      "text/plain": [
       "294.4620557177349"
      ]
     },
     "execution_count": 44,
     "metadata": {},
     "output_type": "execute_result"
    }
   ],
   "source": []
  },
  {
   "cell_type": "code",
   "execution_count": null,
   "metadata": {},
   "outputs": [],
   "source": []
  }
 ],
 "metadata": {
  "kernelspec": {
   "display_name": "Python 3",
   "language": "python",
   "name": "python3"
  },
  "language_info": {
   "codemirror_mode": {
    "name": "ipython",
    "version": 3
   },
   "file_extension": ".py",
   "mimetype": "text/x-python",
   "name": "python",
   "nbconvert_exporter": "python",
   "pygments_lexer": "ipython3",
   "version": "3.7.3"
  }
 },
 "nbformat": 4,
 "nbformat_minor": 4
}
