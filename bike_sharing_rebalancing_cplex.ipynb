{
 "cells": [
  {
   "cell_type": "markdown",
   "metadata": {},
   "source": [
    "# Bike Sharing Rebalancing Problem"
   ]
  },
  {
   "cell_type": "markdown",
   "metadata": {},
   "source": [
    "The following implementation is derivated from the following paper: https://www.sciencedirect.com/science/article/abs/pii/S0305048313001187\n"
   ]
  },
  {
   "cell_type": "markdown",
   "metadata": {},
   "source": [
    "## Introduction"
   ]
  },
  {
   "cell_type": "markdown",
   "metadata": {},
   "source": [
    "Il Bike sharing negli ultimi anni sta riscutendo un notevole successo per via dei suoi numerosi vantaggi che vanno dalla riduzione del traffico ad una maggiore sostenibilità. Con il crescente interesse verso l'adozione di questo modello sono aumentate anche le ricerche per ottimizzare il sistema e ridurre i suoi costi.\n",
    "\n",
    "In generale in un sistema di bike sharing le stazioni sono composte da differenti slot, ognuno dei quali può ospitare una singola bicicletta. Nei sistemi moderni le stazioni sono connesse ad internet in maniera che il sistema possa essere monitorato e le informazioni raccolte possano essere usate per migliorare il sistema.\n",
    "\n",
    "Tra i costi giornalieri del sistema che includono manutenzione, assicurazione, elettricità il costo che il paper va ad analizzare è il <b>costo di redistribuzione</b>.\n",
    "\n",
    "Infatti a fine giornata infatti ci possono essere stazioni completamente vuote o stazioni piene quello che si fa solitamente è nella notte redistribuire le bici nelle varie stazioni.\n",
    "Il riposizionamento è fatto in base alle <b>capacità</b> dei <b>veicoli</b> presenti in un deposito centrale che prende le biciclette da stazioni dove il livello di <b>occupazione</b> è troppo alto e le rialloca nelle stazioni dove il livello è troppo basso. <b>Solitamente una quantità di biciclette è tenuto nel deposito consetendo una più flessibile riallocazione</b>. Il problema è noto in letteratura come Bike sharing Rebalacing Problem (BRP).\n",
    "Nel paper sono proposte 4 <b>Mixed Integer Linear Programming(MILP)</b> formulation. Questa tesina tratta la <b>formulazione F4.</b>"
   ]
  },
  {
   "cell_type": "markdown",
   "metadata": {},
   "source": [
    "Il problema è una versione più specifica del problema del commesso viaggiatore, le variabili del problema sono:\n",
    "\n",
    "| Variable Name  | Description |\n",
    "| ------------- | ------------- |\n",
    "| <i>V</i>   | Set of vertices |\n",
    "| <i>A</i>   | Set of arcs  |\n",
    "| <i>n</i>   | Number of stations |\n",
    "| <i>m</i>   |  Number of vehicles  |\n",
    "| <i>Q</i>   | Vehicle capacity |\n",
    "| <i>q<sub>i</sub></i>  |  Demand at vertex i  |\n",
    "| <i>c<sub>ij</sub></i>  |  Cost of arc (i,j)  |\n",
    "\n",
    "Queste variabili sono condivise fra tutte le formulazioni. \n",
    "La particolarità di questa formulazione è la presenza di <b>due depositi</b>, <b>uno iniziale</b> da cui il mezzo parte e <b>uno finale</b> in cui il mezzo deve arrivare.\n",
    "\n",
    "Inoltre relativamente a questa formulazione abbiamo $V_0 = V \\backslash${$0, n+1$} ovvero una variabile che considera tutte le stazioni tranne i due depositi. <br/>\n",
    "\n",
    "Quello che si vuole ottenere è minimizzare la <b>funzione obiettivo</b> espressa come: "
   ]
  },
  {
   "cell_type": "markdown",
   "metadata": {},
   "source": [
    "$min \\sum_{\\substack{i \\in V}}\\sum_{\\substack{j \\in V}} c_{ij} x_{ij} $\n"
   ]
  },
  {
   "cell_type": "markdown",
   "metadata": {},
   "source": [
    "Nella <b>funzione obiettivo</b> $x_{ij}$ rappresenta lo specifico arco utilizzato mentre $c_{ij}$ rappresenta una funzione costo che nel problema è espressa come la distanza euclidea tra i due nodi $i$ e $j$ (stazioni).\n",
    "\n",
    "I vincoli per la specifica trattazione sono: "
   ]
  },
  {
   "cell_type": "markdown",
   "metadata": {},
   "source": [
    "<div style=\"text-align: left\"> \n",
    "$\\sum_{\\substack{i \\in V}} x_{i,j} = 1, \\quad j \\in V_{0}  \\quad\\quad $(17) <br/>\n",
    "$\\sum_{\\substack{i \\in V}} x_{j,i} = 1, \\quad j \\in V_0 \\quad\\quad $(18)\n",
    "<br/>\n",
    "    $\\sum_{\\substack{j \\in V}} x_{0,j} \\leq m,\\quad j \\in V_0 \\quad\\quad $(19)\n",
    "<br/>\n",
    "    $\\sum_{\\substack{j \\in V_0}} x_{0,j} = \\sum_{\\substack{j \\in V_0}} x_{j,n+1} \\quad\\quad $(20)\n",
    "<br/>\n",
    "$\\sum_{\\substack{i \\in S}}\\sum_{\\substack{j \\in S}} x_{i,j} \\leq \\vert S \\vert  - 1, S \\subseteq V_0, S \\neq \\emptyset \\quad\\quad $(21)\n",
    "<br/>\n",
    "$f_{ij} + g_{ij} = Qx_{ij} (i,j) \\in A \\quad\\quad $(22)\n",
    "<br/>\n",
    "$\\sum_{\\substack{i \\in V}} (f_{ij} - g_{ij}) - \\sum_{\\substack{i \\in V}} (f_{ij} - g_{ji}) = 2q_j, j \\in V_0 \\quad\\quad $(23)\n",
    "<br/>\n",
    "$\\sum_{\\substack{j \\in V_0}} f_{0,j} \\geq max[0, -Q_{tot}] \\quad\\quad $(24)\n",
    "<br/>\n",
    "$\\sum_{\\substack{j \\in V_0}} f_{j,n+1} \\geq max{Q, Q_{tot}} \\quad\\quad $(25)\n",
    "<br/>\n",
    "$\\sum_{\\substack{j \\in V_0}} g_{j0} \\leq min [mQ, mQ + Q_{tot}] \\quad\\quad $(26)\n",
    "<br/>\n",
    "$max[0, q_i, -q_j]x_{ij} \\leq f_{ij} \\leq min[Q, Q + q_i, Q -q_j]x_{ij}, (i,j) \\in  A  \\quad\\quad $(27)\n",
    "<br/>\n",
    "$ (Q - min[Q, Q + q_i, Q - q_i]) x_{ij} \\leq g_{ji} \\leq ( Q - max[0, q_i, -q_j]) x_{ij}, (i,j) \\in A \\quad\\quad $ (28)\n",
    "<br/>\n",
    "$ x{ij} \\in [0,1], i,j \\in V \\quad\\quad $ (29) \n",
    "</div>\n"
   ]
  },
  {
   "cell_type": "markdown",
   "metadata": {},
   "source": [
    "* I <b>vincoli (17)-(20) e (29)</b> sono equivalenti ai vincoli discussi nella trattazione $F1$ con la differenza che sono stati adattati al nuovo set di vertici e archi. <br/>\n",
    "* Il <b>vincolo (22)</b> afferma che se un veicolo viaggia lungo un arco (i,j) allora la somma del suo carico e del suo spazio residuo in quel arco è uguale alla capacità del veicolo. <br/>\n",
    "* Il <b>vincolo (23)</b> impone che la differenza tra i carichi e le capacità residue che entrano ed escono in un vertice è doppia rispetto alla domanda di quel vertice. <br/>\n",
    "* Il <b>vincolo (24)</b> impone che il carico totale uscente dal deposito iniziale deve essere in ogni caso non negativo e inoltre nel caso $Q_{tot}$ prenda un valore negativo questo non debba essere più piccolo di quel valore.\n",
    "<br/>\n",
    "* Similmente il <b>vincolo (25)</b> impone che il carico totale entrante nel deposito finale sia in ogni caso non negativo e non più bassso della somma di tutte le domande nel caso in cui sia positivo.\n",
    "<br/>\n",
    "* Il <b>vincolo (26)</b> impone che lo spazio libero nei veicoli che lasciano il deposito deve essere minore del minor valore tra la capacità totale degli m veicoli e la capacità totale più Q_{tot}\n",
    "<br/>\n",
    "* Il <b>vincolo (27)</b> e <b>(28)</b> forzano il lower and upper bound delle variabili continue.\n",
    "\n",
    "Il progetto è diviso in due parti principali:\n",
    "<br/>\n",
    "* Nella <b>prima parte</b> si inizializzano le variabili e si imposta il modello. <br/>\n",
    "* Nella <b>seconda parte</b> si valutano i risultati ottenuti e si confrontano con le altre formulazioni.\n"
   ]
  },
  {
   "cell_type": "markdown",
   "metadata": {},
   "source": [
    "## Parte 1 "
   ]
  },
  {
   "cell_type": "markdown",
   "metadata": {},
   "source": [
    "### Inizializzazione variabili e import"
   ]
  },
  {
   "cell_type": "markdown",
   "metadata": {},
   "source": [
    "Per prima cosa andiamo ad importare tutte le librerie necessarie per lo svolgimento del problema. In aggiunta rispetto alle altre formulazioni andiamo a genare una lista di stazioni $V_0$ che esclude i due depositi e calcoliamo $Q_{tot}$ come la somma delle domande di tutti gli edge. La domanda $q_i$ è generata casualmente ed i costi $c_{ij}$ sono rappresentati in termini di <b>distanza euclidee tra i nodi</b>."
   ]
  },
  {
   "cell_type": "code",
   "execution_count": 8,
   "metadata": {},
   "outputs": [],
   "source": [
    "#Importing cplex API\n",
    "import sys\n",
    "import docplex.cp\n",
    "\n",
    "#Importing numpy and random generator\n",
    "import numpy as np\n",
    "rand = np.random\n",
    "\n",
    "#Importing pyplot\n",
    "import matplotlib.pyplot as plt\n",
    "\n",
    "#Importing docplex model\n",
    "from docplex.mp.model import Model\n",
    "import itertools"
   ]
  },
  {
   "cell_type": "code",
   "execution_count": 9,
   "metadata": {},
   "outputs": [],
   "source": [
    "#Initial values\n",
    "n = 5                                   # amount of stations (Reggio-Emilia)\n",
    "m = 2                                            # amount of vehicles\n",
    "Q = 10                                           # vehicles capacity\n",
    "end = n + 1\n",
    "Vo = [i for i in range(1, n+1)] # stations without starting and ending deposit   \n",
    "V = [0] + Vo + [end] \n",
    "#A = [(i, j) for i in V for j in V]           # edges A_tilde\n",
    "A_tilde = [(i, j) for i in V for j in V]  \n",
    "q = {i: rand.randint(-Q, Q) for i in V}           # demand along edges\n",
    "q[0] = 0\n",
    "q[n+1] = 0\n",
    "Qtot = sum(q.values()) - q[0] - q[n+1]"
   ]
  },
  {
   "cell_type": "markdown",
   "metadata": {},
   "source": [
    "Le coordinate delle stazioni vengono generate casualmente in uno spazio 500x500. A partire dalle coordinate andiamo ad impostare i pesi per ogni arco. In generale il peso è dato dalla distanza euclidea tra $i$ e $j$, in aggiunta però andiamo a fare delle modifiche secondo la formulazione F4. Ovvero: <br/>\n",
    "* $C_{n+1, j} = \\inf $\n",
    "* $C_{j, n+1} = C_{j, 0}$\n",
    "* $C_{0, n+1} = 0$\n",
    "* $C_{j, 0} = \\inf $"
   ]
  },
  {
   "cell_type": "code",
   "execution_count": 10,
   "metadata": {
    "scrolled": true
   },
   "outputs": [],
   "source": [
    "# Generating random coordinates and computing the distances using euclidian distance\n",
    "coord = rand.rand(len(V), 2) * 1000\n",
    "c = {(i, j): \n",
    "        float('Inf') if i == n+1 else np.hypot(coord[i][0]-coord[j][0], coord[i][1]-coord[j][1]) \n",
    "             for i, j in A_tilde} #C_n+1,j else euclidian distance    \n",
    "\n",
    "for i in c.keys(): #c_0,n+1 e c_j,n+1\n",
    "    if i[0] == 0 and i[1] == n+1:\n",
    "        c[i] = 0.0\n",
    "    elif i[1] == n+1:\n",
    "        c[i] = c[i[0], 0]\n",
    "\n",
    "for i in c.keys(): #C_j0 = inf\n",
    "    if i[1] == 0:\n",
    "        c[i] = float('inf')\n"
   ]
  },
  {
   "cell_type": "markdown",
   "metadata": {},
   "source": [
    "### Visualizzazione grafica delle stazioni\n",
    "In rosso si possono visualizzare i depositi, il deposito iniziale rappresentato dal $q_0$ e il deposito finale $q_n+1$. Nella visualizzazione è inoltre stampato il valore della domanda $q$ in ogni nodo."
   ]
  },
  {
   "cell_type": "code",
   "execution_count": 11,
   "metadata": {},
   "outputs": [
    {
     "data": {
      "text/plain": [
       "(-10.426592583241757,\n",
       " 1033.0015629323902,\n",
       " 22.888524614129118,\n",
       " 837.2708689158394)"
      ]
     },
     "execution_count": 11,
     "metadata": {},
     "output_type": "execute_result"
    },
    {
     "data": {
      "image/png": "[encoded data removed]",
      "text/plain": [
       "<Figure size 432x288 with 1 Axes>"
      ]
     },
     "metadata": {
      "needs_background": "light"
     },
     "output_type": "display_data"
    }
   ],
   "source": [
    "for point in coord[1:]:   \n",
    "    plt.scatter(point[0], point[1], c='b')\n",
    "\n",
    "for i in V:\n",
    "    plt.annotate('$q_%d=%d$' % (i, q[i]), (coord[i][0], coord[i][1]+10))\n",
    "\n",
    "plt.plot(coord[0][0], coord[0][1], c='r', marker='s') #marker=(5, 1)\n",
    "plt.plot(coord[end][0], coord[end][1], c='r', marker='s') \n",
    "plt.axis('equal')"
   ]
  },
  {
   "cell_type": "markdown",
   "metadata": {},
   "source": [
    "### Formulazione e risoluzione del modello con CPLEX API\n",
    "Le variabili decisionali per questa trattazione sono 3, le prime due sono state già utilizzate nella trattazione F2 e sono:\n",
    "* $x_{ij}$ E' una variabile binaria che prende valore $1$ se l'arco è usato $0$ altrimenti per $(i,j) \\in A$\n",
    "* $f_{ij}$ E' una variabile continua che rappresenta il flusso sull'arco $(i,j)$ i.e. il carico del veicolo passante per l'arco $(i,j)$ per ogni $(i,j) \\in A$\n",
    "* $g_{ij}$ E' una variabile continua che rappresenta lo spazio residuo nel veicolo viaggiante lungo l'arco $(i,j)$ per $(i,j) \\in A$\n",
    "\n",
    "La funzione obiettivo e i vincoli sono stati impostati nella maniera sopra descritta in formule matematiche. Le funzioni di cplex utilizzate sono rispettivamente minimize per la funzione obiettivo e add_costraint/s per impostare i vincoli."
   ]
  },
  {
   "cell_type": "code",
   "execution_count": 12,
   "metadata": {},
   "outputs": [],
   "source": [
    "# Model\n",
    "f4 = Model('Formulation-F4')\n",
    "\n",
    "# Decision variables\n",
    "x = f4.binary_var_dict(A_tilde, name='x')\n",
    "f = f4.continuous_var_dict(A_tilde, name='f')\n",
    "g = f4.continuous_var_dict(A_tilde, name='g')"
   ]
  },
  {
   "cell_type": "code",
   "execution_count": 13,
   "metadata": {
    "scrolled": false
   },
   "outputs": [
    {
     "name": "stdout",
     "output_type": "stream",
     "text": [
      "Version identifier: 12.10.0.0 | 2019-11-26 | 843d4de2ae\n",
      "CPXPARAM_Read_DataCheck                          1\n",
      "CPXPARAM_RandomSeed                              201903125\n",
      "Tried aggregator 4 times.\n",
      "MIP Presolve eliminated 462 rows and 30 columns.\n",
      "MIP Presolve modified 99 coefficients.\n",
      "Aggregator did 41 substitutions.\n",
      "Reduced MIP has 89 rows, 76 columns, and 412 nonzeros.\n",
      "Reduced MIP has 31 binaries, 0 generals, 0 SOSs, and 0 indicators.\n",
      "Presolve time = 0.03 sec. (2.78 ticks)\n",
      "Found incumbent of value 7.0000000e+20 after 0.08 sec. (3.29 ticks)\n",
      "Probing time = 0.00 sec. (0.11 ticks)\n",
      "Tried aggregator 1 time.\n",
      "Detecting symmetries...\n",
      "Reduced MIP has 89 rows, 76 columns, and 412 nonzeros.\n",
      "Reduced MIP has 31 binaries, 0 generals, 0 SOSs, and 0 indicators.\n",
      "Presolve time = 0.00 sec. (0.28 ticks)\n",
      "Probing time = 0.00 sec. (0.11 ticks)\n",
      "Clique table members: 18.\n",
      "MIP emphasis: balance optimality and feasibility.\n",
      "MIP search method: dynamic search.\n",
      "Parallel mode: deterministic, using up to 8 threads.\n",
      "Root relaxation solution time = 0.02 sec. (0.27 ticks)\n",
      "\n",
      "        Nodes                                         Cuts/\n",
      "   Node  Left     Objective  IInf  Best Integer    Best Bound    ItCnt     Gap\n",
      "\n",
      "*     0+    0                       7.00000e+20        0.0000           100.00%\n",
      "*     0+    0                       3.00000e+20        0.0000           100.00%\n",
      "*     0     0      integral     0        0.0000        0.0000       32    0.00%\n",
      "Elapsed time = 0.11 sec. (4.27 ticks, tree = 0.00 MB, solutions = 3)\n",
      "\n",
      "Root node processing (before b&c):\n",
      "  Real time             =    0.11 sec. (4.28 ticks)\n",
      "Parallel b&c, 8 threads:\n",
      "  Real time             =    0.00 sec. (0.00 ticks)\n",
      "  Sync time (average)   =    0.00 sec.\n",
      "  Wait time (average)   =    0.00 sec.\n",
      "                          ------------\n",
      "Total (root+branch&cut) =    0.11 sec. (4.28 ticks)\n",
      "Version identifier: 12.10.0.0 | 2019-11-26 | 843d4de2ae\n",
      "CPXPARAM_Read_DataCheck                          1\n",
      "CPXPARAM_RandomSeed                              201903125\n",
      "4 of 4 MIP starts provided solutions.\n",
      "MIP start 'm1' defined initial solution with objective 2804.2167.\n",
      "Tried aggregator 4 times.\n",
      "MIP Presolve eliminated 462 rows and 30 columns.\n",
      "MIP Presolve modified 99 coefficients.\n",
      "Aggregator did 41 substitutions.\n",
      "Reduced MIP has 89 rows, 76 columns, and 412 nonzeros.\n",
      "Reduced MIP has 31 binaries, 0 generals, 0 SOSs, and 0 indicators.\n",
      "Presolve time = 0.01 sec. (2.78 ticks)\n",
      "Probing time = 0.00 sec. (0.11 ticks)\n",
      "Tried aggregator 1 time.\n",
      "Detecting symmetries...\n",
      "Reduced MIP has 89 rows, 76 columns, and 412 nonzeros.\n",
      "Reduced MIP has 31 binaries, 0 generals, 0 SOSs, and 0 indicators.\n",
      "Presolve time = 0.02 sec. (0.28 ticks)\n",
      "\n",
      "Root node processing (before b&c):\n",
      "  Real time             =    0.03 sec. (3.55 ticks)\n",
      "Parallel b&c, 8 threads:\n",
      "  Real time             =    0.00 sec. (0.00 ticks)\n",
      "  Sync time (average)   =    0.00 sec.\n",
      "  Wait time (average)   =    0.00 sec.\n",
      "                          ------------\n",
      "Total (root+branch&cut) =    0.03 sec. (3.55 ticks)\n"
     ]
    },
    {
     "data": {
      "text/plain": [
       "docplex.mp.solution.SolveSolution(obj=2804.22,values={x_0_5:1,x_1_6:1,x_.."
      ]
     },
     "execution_count": 13,
     "metadata": {},
     "output_type": "execute_result"
    }
   ],
   "source": [
    "#Function to minimize\n",
    "f4.minimize(f4.sum(c[i, j]*x[i, j] for i in V for j in V))\n",
    "\n",
    "#Constraints\n",
    "f4.add_constraints(f4.sum(x[i, j] for i in V) == 1 for j in Vo) #17\n",
    "f4.add_constraints(f4.sum(x[j, i] for i in V) == 1 for j in Vo) #18\n",
    "f4.add_constraint(f4.sum(x[0, j] for j in V) <= m ) #19\n",
    "f4.add_constraint(f4.sum(x[0, j] for j in Vo) == f4.sum(x[i, n-1] for i in Vo)) #20\n",
    "\n",
    "for i in range(1, len(Vo) + 1):\n",
    "    for S in itertools.permutations(Vo, i):\n",
    "        f4.add_constraint(f4.sum(x[i, j] for j in S for i in S) <= len(S)-1) # 21\n",
    "        \n",
    "f4.add_constraints((f[i,j] + g[j,i]) == Q * x[i,j] for i in V for j in V)       #22\n",
    "f4.add_constraints((f4.sum((f[j, i] - g[i,j]) for i in V) - f4.sum((f[i, j] - g[j,i]) for i in V)) == 2*q[j] for j in Vo) #23\n",
    "f4.add_constraint(f4.sum(f[0,j] for j in Vo) >= max(0, -Qtot)) #24\n",
    "f4.add_constraint(f4.sum(f[j,end] for j in Vo) >= max(0, Qtot)) #25\n",
    "f4.add_constraint((f4.sum(g[j,0] for j in Vo) <= min(m*Q, m*Q + Qtot)))                   #26\n",
    "\n",
    "f4.add_constraints((max(0,q[i],-q[j]) * x[i,j]) <= f[i,j] for i in V for j in V)                   #27_1\n",
    "f4.add_constraints(f[i,j] <= (min(Q,Q + q[i],Q -q[j]) * x[i,j])  for i in V for j in V)                   #27_2\n",
    "\n",
    "f4.add_constraints(((Q - min(Q, Q + q[i], Q - q[j])) * x[i,j]) <= g[j,i] for i in V for j in V)                 #28_1\n",
    "f4.add_constraints((g[j,i] <= (Q - max(0, q[i], -q[j])) * x[i,j]) for i in V for j in V)                   #28_2\n",
    "\n",
    "\n",
    "solutionF4 = f4.solve(log_output=True)\n",
    "f4.solve(log_output=True)\n"
   ]
  },
  {
   "cell_type": "code",
   "execution_count": 14,
   "metadata": {},
   "outputs": [
    {
     "name": "stdout",
     "output_type": "stream",
     "text": [
      "solution for: Formulation-F4\n",
      "objective: 0\n",
      "x_0_5=1\n",
      "x_1_6=1\n",
      "x_2_3=1\n",
      "x_3_1=1\n",
      "x_4_2=1\n",
      "x_5_4=1\n",
      "f_1_6=6.000\n",
      "f_2_3=1.000\n",
      "f_3_1=2.000\n",
      "f_4_2=6.000\n",
      "g_1_3=8.000\n",
      "g_2_4=4.000\n",
      "g_3_2=9.000\n",
      "g_4_5=10.000\n",
      "g_5_0=10.000\n",
      "g_6_1=4.000\n",
      "\n"
     ]
    }
   ],
   "source": [
    "print(solutionF4)"
   ]
  },
  {
   "cell_type": "code",
   "execution_count": 15,
   "metadata": {},
   "outputs": [
    {
     "name": "stdout",
     "output_type": "stream",
     "text": [
      "status  = integer optimal solution\n",
      "time    = 0.125 s.\n",
      "problem = MILP\n",
      "gap     = 0%\n",
      "\n"
     ]
    }
   ],
   "source": [
    "print(solutionF4.solve_details)"
   ]
  },
  {
   "cell_type": "markdown",
   "metadata": {},
   "source": [
    "### Visualizzazione percorso ottimale con valore per la domanda"
   ]
  },
  {
   "cell_type": "code",
   "execution_count": 16,
   "metadata": {},
   "outputs": [
    {
     "data": {
      "text/plain": [
       "[(0, 5), (1, 6), (2, 3), (3, 1), (4, 2), (5, 4)]"
      ]
     },
     "execution_count": 16,
     "metadata": {},
     "output_type": "execute_result"
    },
    {
     "data": {
      "image/png": "[encoded data removed]",
      "text/plain": [
       "<Figure size 432x288 with 1 Axes>"
      ]
     },
     "metadata": {
      "needs_background": "light"
     },
     "output_type": "display_data"
    }
   ],
   "source": [
    "\n",
    "active_arcs = [a for a in A_tilde if x[a].solution_value > 0.9]\n",
    "\n",
    "for point in coord[1:]:   \n",
    "    plt.scatter(point[0], point[1], c='b')\n",
    "    \n",
    "for i in V:\n",
    "    plt.annotate('$q_%d=%d$' % (i, q[i]), (coord[i][0]+2, coord[i][1]))\n",
    "    \n",
    "for i, j in active_arcs:\n",
    "    plt.plot([coord[i][0], coord[j][0]], [coord[i][1], coord[j][1]], c='g', alpha=0.3)\n",
    "    \n",
    "plt.plot(coord[0][0], coord[0][1], c='r', marker='s') # Starting depot\n",
    "plt.plot(coord[n+1][0], coord[n+1][1], c='r', marker='s') # Ending depot\n",
    "plt.axis('equal')\n",
    "\n",
    "active_arcs"
   ]
  },
  {
   "cell_type": "markdown",
   "metadata": {},
   "source": [
    "## Parte 2"
   ]
  },
  {
   "cell_type": "markdown",
   "metadata": {},
   "source": [
    "### Valutazione"
   ]
  },
  {
   "cell_type": "markdown",
   "metadata": {},
   "source": [
    "A partire dal dataset fornito insieme al paper, consultabile al link: http://www.or.unimore.it/site/home/online-resources/bike-sharing-rebalancing-problems/articolo1090035457.html verrà effettuata una valutazione del modello. <br/>\n",
    "Essendo in generale l'operazione molto costosa in termini di ram e la macchina utilizzata non in grado di eseguire gli esempi del test set il numero di stazioni è stato ridotto in maniera da ottenere dei risultati. I risultati ottenuti nella formulazione F4 sono poi confrontati con i risultati delle altre formulazioni ottenute dai colleghi nel seguente esperimento: https://github.com/conema/bike-sharing-rebalancing/blob/master/bike-sharing-cplex.ipynb"
   ]
  },
  {
   "cell_type": "markdown",
   "metadata": {},
   "source": [
    "Per leggere i dati a partire dai file di test.txt si può utilizzare la seguente funzione:"
   ]
  },
  {
   "cell_type": "code",
   "execution_count": 27,
   "metadata": {},
   "outputs": [],
   "source": [
    "dataset  = open(\"InstancesBRP/3Bari10.txt\", \"r\")\n",
    "\n",
    "i = 0\n",
    "\n",
    "while True:\n",
    "    line = dataset.readline()\n",
    "\n",
    "    if not line:\n",
    "      break\n",
    "\n",
    "    if(i == 0):\n",
    "      nNodes = int(line)\n",
    "      costs = {(i, j): 0 for i in range(nNodes) for j in range(nNodes)}\n",
    "    elif(i == 1):\n",
    "      qVertices = {i: int(q) for i, q in enumerate(line.split())}\n",
    "    elif(i == 2):\n",
    "      cVehicles = int(line)\n",
    "    else:\n",
    "      j = 0\n",
    "      for el in line.split():\n",
    "        costs[(i-3, j)] = float(el)\n",
    "        j = j+1\n",
    "      \n",
    "    i = i+1\n",
    "\n",
    "dataset.close()"
   ]
  },
  {
   "cell_type": "markdown",
   "metadata": {},
   "source": [
    "Successivamente basterà effettuare gli assegnamenti ale variabili del problema:"
   ]
  },
  {
   "cell_type": "code",
   "execution_count": 26,
   "metadata": {},
   "outputs": [],
   "source": [
    "#Initial values\n",
    "n = nNodes                                    # amount of stations (Reggio-Emilia)\n",
    "m = 2                                            # amount of vehicles\n",
    "Q = cVehicles                                         # vehicles capacity\n",
    "end = n + 1\n",
    "Vo = [i for i in range(1, n+1)] # stations without starting and ending deposit   \n",
    "V = [0] + Vo + [end] \n",
    "#A = [(i, j) for i in V for j in V]           # edges A_tilde\n",
    "A_tilde = [(i, j) for i in V for j in V]  \n",
    "q = qVertices           # demand along edges\n",
    "q[n+1] = 0\n",
    "Qtot = sum(q.values()) - q[0] - q[n+1]\n",
    "c = costs"
   ]
  },
  {
   "cell_type": "markdown",
   "metadata": {},
   "source": [
    "Ed eseguire la parte di notebook contrassegnata come <b>Formulazione e risoluzione del modello con CPLEX API<b/>\n"
   ]
  },
  {
   "cell_type": "markdown",
   "metadata": {},
   "source": [
    "Ecco i risultati ottenuti dalla formulazione F4. "
   ]
  },
  {
   "cell_type": "markdown",
   "metadata": {},
   "source": [
    "|V  |F1           |F1|F1|F2            |F2|F2|F3         |F3|F3|F4               |F4|F4|\n",
    "|---|-------------|------|------|--------------|------|------|-----------|------|-------|-----------------|-------|-------|\n",
    "|   |Tempo        |Gap   |Gap r |Tempo         |Gap   |Gap r |Tempo      |Gap   |Gap r  |Tempo            |Gap    |Gap r  |\n",
    "|5  |5s + 0s      |0%    |100%  |2s + 0s       |0%    |62.02%|2s + 0s    |0%    |100%   |1s + 0s          |0%     |100%   |\n",
    "|8  |4s + 0s      |0%    |100%  |4s + 0s       |0%    |72.92%|5s + 0s    |0%    |100%   |4s +0s           |0%     |100%   |\n",
    "|9  |21s + 2s     |0%    |100%  |20s + 2.56s   |0%    |72.55%|21s + 2s   |0%    |100%   |22s + 3s         |0%     |100%   |\n",
    "|10 |3m12s + 26.2s|0%    |100%  |3m20s + 32.70s|0%    |74.07%|3m30s + 28s|0%    |100%   |out of memory 8gb|       |       |\n"
   ]
  },
  {
   "cell_type": "markdown",
   "metadata": {},
   "source": [
    "Il test con 10 stazioni va in out of memory probabilmente dovuto alla limitata capacità in termini di ram del computer utilizzato. Questo è causato dal fatto che <b>i vincoli che sfruttano itertools</b> che portano alla generazione di un numero esponenziale di sottoinsiemi di nodi e questo necessità una grossa quantità di ram.\n",
    "Per quanto riguarda i tempi, la maggior parte del tempo è impiegato per la creazione dei vincoli mentre il tempo necessario per la risoluzione è molto inferiore."
   ]
  },
  {
   "cell_type": "markdown",
   "metadata": {},
   "source": [
    "In conclusione ciò che si può dire è che questi test non bastano per dire che una formulazione sia migliore di un'altra. Per comprendere veramente le potenzialità di una formulazione rispetto ad un'altra e le differenze di performance relazionate ad una qualche variabile del problema sarebbe necessario effettuare altri test con vari valori di V."
   ]
  },
  {
   "cell_type": "code",
   "execution_count": null,
   "metadata": {},
   "outputs": [],
   "source": []
  },
  {
   "cell_type": "code",
   "execution_count": null,
   "metadata": {},
   "outputs": [],
   "source": []
  },
  {
   "cell_type": "code",
   "execution_count": null,
   "metadata": {},
   "outputs": [],
   "source": []
  },
  {
   "cell_type": "code",
   "execution_count": null,
   "metadata": {},
   "outputs": [],
   "source": []
  },
  {
   "cell_type": "code",
   "execution_count": null,
   "metadata": {},
   "outputs": [],
   "source": []
  }
 ],
 "metadata": {
  "kernelspec": {
   "display_name": "Python 3",
   "language": "python",
   "name": "python3"
  },
  "language_info": {
   "codemirror_mode": {
    "name": "ipython",
    "version": 3
   },
   "file_extension": ".py",
   "mimetype": "text/x-python",
   "name": "python",
   "nbconvert_exporter": "python",
   "pygments_lexer": "ipython3",
   "version": "3.7.3"
  }
 },
 "nbformat": 4,
 "nbformat_minor": 4
}
