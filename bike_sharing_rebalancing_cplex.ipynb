{
 "cells": [
  {
   "cell_type": "markdown",
   "metadata": {},
   "source": [
    "# Bike Sharing Rebalancing Problem"
   ]
  },
  {
   "cell_type": "markdown",
   "metadata": {},
   "source": [
    "The following implementation is derivated from the following paper: https://www.sciencedirect.com/science/article/abs/pii/S0305048313001187\n"
   ]
  },
  {
   "cell_type": "markdown",
   "metadata": {},
   "source": [
    "## Introduction"
   ]
  },
  {
   "cell_type": "markdown",
   "metadata": {},
   "source": [
    "| Variable Name  | Description |\n",
    "| ------------- | ------------- |\n",
    "| <i>V</i>   | Set of vertices |\n",
    "| <i>A</i>   | Set of arcs  |\n",
    "| <i>n</i>   | Number of stations |\n",
    "| <i>m</i>   |  Number of vehicles  |\n",
    "| <i>Q</i>   | Vehicle capacity |\n",
    "| <i>q<sub>i</sub></i>  |  Demand at vertex i  |\n",
    "| <i>c<sub>ij</sub></i>  |  Cost of arc (i,j)  |"
   ]
  },
  {
   "cell_type": "code",
   "execution_count": 1,
   "metadata": {},
   "outputs": [],
   "source": [
    "#Importing cplex API\n",
    "import sys\n",
    "import docplex.cp\n",
    "\n",
    "#Importing numpy and random generator\n",
    "import numpy as np\n",
    "rand = np.random\n",
    "\n",
    "#Importing pyplot\n",
    "import matplotlib.pyplot as plt\n",
    "\n",
    "#Importing docplex model\n",
    "from docplex.mp.model import Model\n",
    "import itertools"
   ]
  },
  {
   "cell_type": "code",
   "execution_count": 2,
   "metadata": {},
   "outputs": [],
   "source": [
    "#Initial values\n",
    "n = 6                                          # amount of stations (Reggio-Emilia)\n",
    "m = 2                                            # amount of vehicles\n",
    "Q = 10                                           # vehicles capacity\n",
    "end = n + 1\n",
    "Vo = [i for i in range(1, n+1)] # stations without starting and ending deposit   \n",
    "V = [0] + Vo + [end] \n",
    "#A = [(i, j) for i in V for j in V]           # edges A_tilde\n",
    "A_tilde = [(i, j) for i in V for j in V]  \n",
    "q = {i: rand.randint(-Q, Q) for i in V}           # demand along edges\n",
    "Qtot = sum(q.values())\n",
    "\n"
   ]
  },
  {
   "cell_type": "code",
   "execution_count": 3,
   "metadata": {
    "scrolled": true
   },
   "outputs": [],
   "source": [
    "# Generating random coordinates and computing the distances using euclidian distance\n",
    "coord = rand.rand(len(V), 2) * 500\n",
    "c = {(i, j): \n",
    "        float('Inf') if i == n or j == n  else np.hypot(coord[i][0]-coord[j][0], coord[i][1]-coord[j][1]) \n",
    "             for i, j in A_tilde}       \n"
   ]
  },
  {
   "cell_type": "code",
   "execution_count": 4,
   "metadata": {},
   "outputs": [
    {
     "data": {
      "text/plain": [
       "(49.678219719962215, 517.3711038734538, 102.35613781988991, 362.39111495538316)"
      ]
     },
     "execution_count": 4,
     "metadata": {},
     "output_type": "execute_result"
    },
    {
     "data": {
      "image/png": "[encoded data removed]",
      "text/plain": [
       "<Figure size 432x288 with 1 Axes>"
      ]
     },
     "metadata": {
      "needs_background": "light"
     },
     "output_type": "display_data"
    }
   ],
   "source": [
    "for point in coord[1:]:   \n",
    "    plt.scatter(point[0], point[1], c='b')\n",
    "\n",
    "for i in V:\n",
    "    plt.annotate('$q_%d=%d$' % (i, q[i]), (coord[i][0], coord[i][1]+10))\n",
    "\n",
    "plt.plot(coord[0][0], coord[0][1], c='r', marker='s') #marker=(5, 1)\n",
    "plt.plot(coord[end][0], coord[end][1], c='r', marker='s') \n",
    "plt.axis('equal')"
   ]
  },
  {
   "cell_type": "code",
   "execution_count": 5,
   "metadata": {},
   "outputs": [],
   "source": [
    "# Model\n",
    "f4 = Model('Formulation-F4')\n",
    "\n",
    "# Decision variables\n",
    "x = f4.binary_var_dict(A_tilde, name='x')\n",
    "f = f4.continuous_var_dict(A_tilde, name='f')\n",
    "g = f4.continuous_var_dict(A_tilde, name='g')"
   ]
  },
  {
   "cell_type": "code",
   "execution_count": 6,
   "metadata": {},
   "outputs": [
    {
     "data": {
      "text/plain": [
       "['C:\\\\Users\\\\Giaco\\\\Desktop\\\\DS Project\\\\Bike-sharing-rebalancing-problem',\n",
       " 'C:\\\\Program Files\\\\IBM\\\\ILOG\\\\CPLEX_Studio_Community129\\\\cplex\\\\python\\\\3.7\\\\x64_win64',\n",
       " 'c:\\\\python3.7\\\\python37.zip',\n",
       " 'c:\\\\python3.7\\\\DLLs',\n",
       " 'c:\\\\python3.7\\\\lib',\n",
       " 'c:\\\\python3.7',\n",
       " '',\n",
       " 'c:\\\\python3.7\\\\lib\\\\site-packages',\n",
       " 'c:\\\\python3.7\\\\lib\\\\site-packages\\\\certifi-2017.7.27.1-py3.7.egg',\n",
       " 'c:\\\\python3.7\\\\lib\\\\site-packages\\\\chardet-3.0.4-py3.7.egg',\n",
       " 'c:\\\\python3.7\\\\lib\\\\site-packages\\\\idna-2.6-py3.7.egg',\n",
       " 'c:\\\\python3.7\\\\lib\\\\site-packages\\\\urllib3-1.22-py3.7.egg',\n",
       " 'c:\\\\python3.7\\\\lib\\\\site-packages\\\\docloud-1.0.257-py3.7.egg',\n",
       " 'c:\\\\python3.7\\\\lib\\\\site-packages\\\\win32',\n",
       " 'c:\\\\python3.7\\\\lib\\\\site-packages\\\\win32\\\\lib',\n",
       " 'c:\\\\python3.7\\\\lib\\\\site-packages\\\\Pythonwin',\n",
       " 'c:\\\\python3.7\\\\lib\\\\site-packages\\\\IPython\\\\extensions',\n",
       " 'C:\\\\Users\\\\Giaco\\\\.ipython']"
      ]
     },
     "execution_count": 6,
     "metadata": {},
     "output_type": "execute_result"
    }
   ],
   "source": [
    "sys.path"
   ]
  },
  {
   "cell_type": "code",
   "execution_count": 8,
   "metadata": {
    "scrolled": true
   },
   "outputs": [
    {
     "name": "stdout",
     "output_type": "stream",
     "text": [
      "CPLEX Error  1016: Community Edition. Problem size limits exceeded. Purchase at https://ibm.co/2s0wqSa.\n",
      "CPLEX Error  1217: No solution exists.\n",
      "CPLEX Error  1217: No solution exists.\n"
     ]
    },
    {
     "ename": "DOcplexLimitsExceeded",
     "evalue": "**** Promotional version. Problem size limits exceeded, CPLEX code=1016",
     "output_type": "error",
     "traceback": [
      "\u001b[1;31m---------------------------------------------------------------------------\u001b[0m",
      "\u001b[1;31mCplexSolverError\u001b[0m                          Traceback (most recent call last)",
      "\u001b[1;32mc:\\python3.7\\lib\\site-packages\\docplex\\mp\\cplex_engine.py\u001b[0m in \u001b[0;36msolve\u001b[1;34m(self, mdl, parameters, lex_mipstart, lex_timelimits, lex_mipgaps)\u001b[0m\n\u001b[0;32m   1633\u001b[0m             \u001b[1;32melse\u001b[0m\u001b[1;33m:\u001b[0m\u001b[1;33m\u001b[0m\u001b[1;33m\u001b[0m\u001b[0m\n\u001b[1;32m-> 1634\u001b[1;33m                 \u001b[0mcpx\u001b[0m\u001b[1;33m.\u001b[0m\u001b[0msolve\u001b[0m\u001b[1;33m(\u001b[0m\u001b[1;33m)\u001b[0m\u001b[1;33m\u001b[0m\u001b[1;33m\u001b[0m\u001b[0m\n\u001b[0m\u001b[0;32m   1635\u001b[0m \u001b[1;33m\u001b[0m\u001b[0m\n",
      "\u001b[1;32mC:\\Program Files\\IBM\\ILOG\\CPLEX_Studio_Community129\\cplex\\python\\3.7\\x64_win64\\cplex\\__init__.py\u001b[0m in \u001b[0;36msolve\u001b[1;34m(self, paramsets)\u001b[0m\n\u001b[0;32m   1224\u001b[0m             \u001b[1;32melse\u001b[0m\u001b[1;33m:\u001b[0m\u001b[1;33m\u001b[0m\u001b[1;33m\u001b[0m\u001b[0m\n\u001b[1;32m-> 1225\u001b[1;33m                 \u001b[0m_proc\u001b[0m\u001b[1;33m.\u001b[0m\u001b[0mmipopt\u001b[0m\u001b[1;33m(\u001b[0m\u001b[0mself\u001b[0m\u001b[1;33m.\u001b[0m\u001b[0m_env\u001b[0m\u001b[1;33m.\u001b[0m\u001b[0m_e\u001b[0m\u001b[1;33m,\u001b[0m \u001b[0mself\u001b[0m\u001b[1;33m.\u001b[0m\u001b[0m_lp\u001b[0m\u001b[1;33m)\u001b[0m\u001b[1;33m\u001b[0m\u001b[1;33m\u001b[0m\u001b[0m\n\u001b[0m\u001b[0;32m   1226\u001b[0m         \u001b[1;32melif\u001b[0m \u001b[0mself\u001b[0m\u001b[1;33m.\u001b[0m\u001b[0mquadratic_constraints\u001b[0m\u001b[1;33m.\u001b[0m\u001b[0mget_num\u001b[0m\u001b[1;33m(\u001b[0m\u001b[1;33m)\u001b[0m \u001b[1;33m>\u001b[0m \u001b[1;36m0\u001b[0m\u001b[1;33m:\u001b[0m\u001b[1;33m\u001b[0m\u001b[1;33m\u001b[0m\u001b[0m\n",
      "\u001b[1;32mC:\\Program Files\\IBM\\ILOG\\CPLEX_Studio_Community129\\cplex\\python\\3.7\\x64_win64\\cplex\\_internal\\_procedural.py\u001b[0m in \u001b[0;36mmipopt\u001b[1;34m(env, lp)\u001b[0m\n\u001b[0;32m    759\u001b[0m         \u001b[0mstatus\u001b[0m \u001b[1;33m=\u001b[0m \u001b[0mCR\u001b[0m\u001b[1;33m.\u001b[0m\u001b[0mCPXXmipopt\u001b[0m\u001b[1;33m(\u001b[0m\u001b[0menv\u001b[0m\u001b[1;33m,\u001b[0m \u001b[0mlp\u001b[0m\u001b[1;33m)\u001b[0m\u001b[1;33m\u001b[0m\u001b[1;33m\u001b[0m\u001b[0m\n\u001b[1;32m--> 760\u001b[1;33m     \u001b[0mcheck_status\u001b[0m\u001b[1;33m(\u001b[0m\u001b[0menv\u001b[0m\u001b[1;33m,\u001b[0m \u001b[0mstatus\u001b[0m\u001b[1;33m)\u001b[0m\u001b[1;33m\u001b[0m\u001b[1;33m\u001b[0m\u001b[0m\n\u001b[0m\u001b[0;32m    761\u001b[0m \u001b[1;33m\u001b[0m\u001b[0m\n",
      "\u001b[1;32mC:\\Program Files\\IBM\\ILOG\\CPLEX_Studio_Community129\\cplex\\python\\3.7\\x64_win64\\cplex\\_internal\\_procedural.py\u001b[0m in \u001b[0;36m__call__\u001b[1;34m(self, env, status, from_cb)\u001b[0m\n\u001b[0;32m    302\u001b[0m                     \u001b[0merror_string\u001b[0m \u001b[1;33m=\u001b[0m \u001b[0mgeterrorstring\u001b[0m\u001b[1;33m(\u001b[0m\u001b[0menv\u001b[0m\u001b[1;33m,\u001b[0m \u001b[0mstatus\u001b[0m\u001b[1;33m)\u001b[0m\u001b[1;33m\u001b[0m\u001b[1;33m\u001b[0m\u001b[0m\n\u001b[1;32m--> 303\u001b[1;33m             \u001b[1;32mraise\u001b[0m \u001b[0mCplexSolverError\u001b[0m\u001b[1;33m(\u001b[0m\u001b[0merror_string\u001b[0m\u001b[1;33m,\u001b[0m \u001b[0menv\u001b[0m\u001b[1;33m,\u001b[0m \u001b[0mstatus\u001b[0m\u001b[1;33m)\u001b[0m\u001b[1;33m\u001b[0m\u001b[1;33m\u001b[0m\u001b[0m\n\u001b[0m\u001b[0;32m    304\u001b[0m \u001b[1;33m\u001b[0m\u001b[0m\n",
      "\u001b[1;31mCplexSolverError\u001b[0m: CPLEX Error  1016: Community Edition. Problem size limits exceeded. Purchase at https://ibm.co/2s0wqSa.",
      "\nDuring handling of the above exception, another exception occurred:\n",
      "\u001b[1;31mDOcplexLimitsExceeded\u001b[0m                     Traceback (most recent call last)",
      "\u001b[1;32m<ipython-input-8-0431d8fa214b>\u001b[0m in \u001b[0;36m<module>\u001b[1;34m\u001b[0m\n\u001b[0;32m     26\u001b[0m \u001b[0mf4\u001b[0m\u001b[1;33m.\u001b[0m\u001b[0madd_constraints\u001b[0m\u001b[1;33m(\u001b[0m\u001b[0mg\u001b[0m\u001b[1;33m[\u001b[0m\u001b[0mi\u001b[0m\u001b[1;33m,\u001b[0m\u001b[0mj\u001b[0m\u001b[1;33m]\u001b[0m \u001b[1;33m<=\u001b[0m \u001b[1;33m(\u001b[0m\u001b[1;33m(\u001b[0m\u001b[0mQ\u001b[0m \u001b[1;33m-\u001b[0m \u001b[0mmax\u001b[0m\u001b[1;33m(\u001b[0m\u001b[1;36m0\u001b[0m\u001b[1;33m,\u001b[0m \u001b[0mq\u001b[0m\u001b[1;33m[\u001b[0m\u001b[0mi\u001b[0m\u001b[1;33m]\u001b[0m\u001b[1;33m,\u001b[0m \u001b[1;33m-\u001b[0m \u001b[0mq\u001b[0m\u001b[1;33m[\u001b[0m\u001b[0mj\u001b[0m\u001b[1;33m]\u001b[0m\u001b[1;33m)\u001b[0m\u001b[1;33m)\u001b[0m \u001b[1;33m*\u001b[0m \u001b[0mx\u001b[0m\u001b[1;33m[\u001b[0m\u001b[0mi\u001b[0m\u001b[1;33m,\u001b[0m\u001b[0mj\u001b[0m\u001b[1;33m]\u001b[0m\u001b[1;33m)\u001b[0m  \u001b[1;32mfor\u001b[0m \u001b[0mi\u001b[0m \u001b[1;32min\u001b[0m \u001b[0mV\u001b[0m \u001b[1;32mfor\u001b[0m \u001b[0mj\u001b[0m \u001b[1;32min\u001b[0m \u001b[0mV\u001b[0m\u001b[1;33m)\u001b[0m                   \u001b[1;31m#28_2\u001b[0m\u001b[1;33m\u001b[0m\u001b[1;33m\u001b[0m\u001b[0m\n\u001b[0;32m     27\u001b[0m \u001b[1;33m\u001b[0m\u001b[0m\n\u001b[1;32m---> 28\u001b[1;33m \u001b[0msolutionF4\u001b[0m \u001b[1;33m=\u001b[0m \u001b[0mf4\u001b[0m\u001b[1;33m.\u001b[0m\u001b[0msolve\u001b[0m\u001b[1;33m(\u001b[0m\u001b[0mlog_output\u001b[0m\u001b[1;33m=\u001b[0m\u001b[1;32mTrue\u001b[0m\u001b[1;33m)\u001b[0m\u001b[1;33m\u001b[0m\u001b[1;33m\u001b[0m\u001b[0m\n\u001b[0m",
      "\u001b[1;32mc:\\python3.7\\lib\\site-packages\\docplex\\mp\\model.py\u001b[0m in \u001b[0;36msolve\u001b[1;34m(self, **kwargs)\u001b[0m\n\u001b[0;32m   3581\u001b[0m                 \u001b[1;31m# if CPLEX is installed go for it\u001b[0m\u001b[1;33m\u001b[0m\u001b[1;33m\u001b[0m\u001b[1;33m\u001b[0m\u001b[0m\n\u001b[0;32m   3582\u001b[0m                 \u001b[0mforce_clean_before_solve\u001b[0m \u001b[1;33m=\u001b[0m \u001b[0mkwargs\u001b[0m\u001b[1;33m.\u001b[0m\u001b[0mget\u001b[0m\u001b[1;33m(\u001b[0m\u001b[1;34m'clean_before_solve'\u001b[0m\u001b[1;33m)\u001b[0m\u001b[1;33m\u001b[0m\u001b[1;33m\u001b[0m\u001b[0m\n\u001b[1;32m-> 3583\u001b[1;33m                 \u001b[1;32mreturn\u001b[0m \u001b[0mself\u001b[0m\u001b[1;33m.\u001b[0m\u001b[0m_solve_local\u001b[0m\u001b[1;33m(\u001b[0m\u001b[0mcontext\u001b[0m\u001b[1;33m,\u001b[0m \u001b[0mforce_clean_before_solve\u001b[0m\u001b[1;33m,\u001b[0m \u001b[0mlex_timelimits\u001b[0m\u001b[1;33m,\u001b[0m \u001b[0mlex_mipgaps\u001b[0m\u001b[1;33m)\u001b[0m\u001b[1;33m\u001b[0m\u001b[1;33m\u001b[0m\u001b[0m\n\u001b[0m\u001b[0;32m   3584\u001b[0m             \u001b[1;32melif\u001b[0m \u001b[0mhave_credentials\u001b[0m\u001b[1;33m:\u001b[0m\u001b[1;33m\u001b[0m\u001b[1;33m\u001b[0m\u001b[0m\n\u001b[0;32m   3585\u001b[0m                 \u001b[1;31m# no context passed as argument, no Cplex installed, try model's own context\u001b[0m\u001b[1;33m\u001b[0m\u001b[1;33m\u001b[0m\u001b[1;33m\u001b[0m\u001b[0m\n",
      "\u001b[1;32mc:\\python3.7\\lib\\site-packages\\docplex\\mp\\model.py\u001b[0m in \u001b[0;36m_solve_local\u001b[1;34m(self, context, force_clean_before_solve, lex_timelimits, lex_mipgaps)\u001b[0m\n\u001b[0;32m   3711\u001b[0m         \u001b[1;32mexcept\u001b[0m \u001b[0mDOcplexException\u001b[0m \u001b[1;32mas\u001b[0m \u001b[0mdocpx_e\u001b[0m\u001b[1;33m:\u001b[0m  \u001b[1;31m# pragma: no cover\u001b[0m\u001b[1;33m\u001b[0m\u001b[1;33m\u001b[0m\u001b[0m\n\u001b[0;32m   3712\u001b[0m             \u001b[0mself\u001b[0m\u001b[1;33m.\u001b[0m\u001b[0m_set_solution\u001b[0m\u001b[1;33m(\u001b[0m\u001b[1;32mNone\u001b[0m\u001b[1;33m)\u001b[0m\u001b[1;33m\u001b[0m\u001b[1;33m\u001b[0m\u001b[0m\n\u001b[1;32m-> 3713\u001b[1;33m             \u001b[1;32mraise\u001b[0m \u001b[0mdocpx_e\u001b[0m\u001b[1;33m\u001b[0m\u001b[1;33m\u001b[0m\u001b[0m\n\u001b[0m\u001b[0;32m   3714\u001b[0m \u001b[1;33m\u001b[0m\u001b[0m\n\u001b[0;32m   3715\u001b[0m         \u001b[1;32mexcept\u001b[0m \u001b[0mException\u001b[0m \u001b[1;32mas\u001b[0m \u001b[0me\u001b[0m\u001b[1;33m:\u001b[0m\u001b[1;33m\u001b[0m\u001b[1;33m\u001b[0m\u001b[0m\n",
      "\u001b[1;32mc:\\python3.7\\lib\\site-packages\\docplex\\mp\\model.py\u001b[0m in \u001b[0;36m_solve_local\u001b[1;34m(self, context, force_clean_before_solve, lex_timelimits, lex_mipgaps)\u001b[0m\n\u001b[0;32m   3698\u001b[0m \u001b[1;33m\u001b[0m\u001b[0m\n\u001b[0;32m   3699\u001b[0m             new_solution = self_engine.solve(self, parameters=parameters, lex_timelimits=lex_timelimits,\n\u001b[1;32m-> 3700\u001b[1;33m                                              lex_mipgaps=lex_mipgaps)\n\u001b[0m\u001b[0;32m   3701\u001b[0m             \u001b[0mhas_solution\u001b[0m \u001b[1;33m=\u001b[0m \u001b[0mnew_solution\u001b[0m \u001b[1;32mis\u001b[0m \u001b[1;32mnot\u001b[0m \u001b[1;32mNone\u001b[0m\u001b[1;33m\u001b[0m\u001b[1;33m\u001b[0m\u001b[0m\n\u001b[0;32m   3702\u001b[0m             \u001b[0mself\u001b[0m\u001b[1;33m.\u001b[0m\u001b[0m_set_solution\u001b[0m\u001b[1;33m(\u001b[0m\u001b[0mnew_solution\u001b[0m\u001b[1;33m)\u001b[0m\u001b[1;33m\u001b[0m\u001b[1;33m\u001b[0m\u001b[0m\n",
      "\u001b[1;32mc:\\python3.7\\lib\\site-packages\\docplex\\mp\\cplex_engine.py\u001b[0m in \u001b[0;36msolve\u001b[1;34m(self, mdl, parameters, lex_mipstart, lex_timelimits, lex_mipgaps)\u001b[0m\n\u001b[0;32m   1661\u001b[0m                 \u001b[0mcpx_status\u001b[0m \u001b[1;33m=\u001b[0m \u001b[1;36m1016\u001b[0m\u001b[1;33m\u001b[0m\u001b[1;33m\u001b[0m\u001b[0m\n\u001b[0;32m   1662\u001b[0m                 \u001b[0mcpx_status_string\u001b[0m \u001b[1;33m=\u001b[0m \u001b[1;34m\"Promotional version. Problem size limits exceeded., CPLEX code=1016.\"\u001b[0m\u001b[1;33m\u001b[0m\u001b[1;33m\u001b[0m\u001b[0m\n\u001b[1;32m-> 1663\u001b[1;33m                 \u001b[0mself\u001b[0m\u001b[1;33m.\u001b[0m\u001b[0m_model\u001b[0m\u001b[1;33m.\u001b[0m\u001b[0mfatal_ce_limits\u001b[0m\u001b[1;33m(\u001b[0m\u001b[1;33m)\u001b[0m\u001b[1;33m\u001b[0m\u001b[1;33m\u001b[0m\u001b[0m\n\u001b[0m\u001b[0;32m   1664\u001b[0m             \u001b[1;32melse\u001b[0m\u001b[1;33m:\u001b[0m\u001b[1;33m\u001b[0m\u001b[1;33m\u001b[0m\u001b[0m\n\u001b[0;32m   1665\u001b[0m                 \u001b[0mcpx_status\u001b[0m\u001b[1;33m,\u001b[0m \u001b[0mcpx_status_string\u001b[0m \u001b[1;33m=\u001b[0m \u001b[0mself\u001b[0m\u001b[1;33m.\u001b[0m\u001b[0m_parse_cplex_exception_as_status\u001b[0m\u001b[1;33m(\u001b[0m\u001b[0mcpx_se\u001b[0m\u001b[1;33m)\u001b[0m\u001b[1;33m\u001b[0m\u001b[1;33m\u001b[0m\u001b[0m\n",
      "\u001b[1;32mc:\\python3.7\\lib\\site-packages\\docplex\\mp\\model.py\u001b[0m in \u001b[0;36mfatal_ce_limits\u001b[1;34m(self, *args)\u001b[0m\n\u001b[0;32m    777\u001b[0m \u001b[1;33m\u001b[0m\u001b[0m\n\u001b[0;32m    778\u001b[0m     \u001b[1;32mdef\u001b[0m \u001b[0mfatal_ce_limits\u001b[0m\u001b[1;33m(\u001b[0m\u001b[0mself\u001b[0m\u001b[1;33m,\u001b[0m \u001b[1;33m*\u001b[0m\u001b[0margs\u001b[0m\u001b[1;33m)\u001b[0m\u001b[1;33m:\u001b[0m\u001b[1;33m\u001b[0m\u001b[1;33m\u001b[0m\u001b[0m\n\u001b[1;32m--> 779\u001b[1;33m         \u001b[0mself\u001b[0m\u001b[1;33m.\u001b[0m\u001b[0m_error_handler\u001b[0m\u001b[1;33m.\u001b[0m\u001b[0mfatal_limits_exceeded\u001b[0m\u001b[1;33m(\u001b[0m\u001b[1;33m)\u001b[0m\u001b[1;33m\u001b[0m\u001b[1;33m\u001b[0m\u001b[0m\n\u001b[0m\u001b[0;32m    780\u001b[0m \u001b[1;33m\u001b[0m\u001b[0m\n\u001b[0;32m    781\u001b[0m     \u001b[1;32mdef\u001b[0m \u001b[0merror\u001b[0m\u001b[1;33m(\u001b[0m\u001b[0mself\u001b[0m\u001b[1;33m,\u001b[0m \u001b[0mmsg\u001b[0m\u001b[1;33m,\u001b[0m \u001b[1;33m*\u001b[0m\u001b[0margs\u001b[0m\u001b[1;33m)\u001b[0m\u001b[1;33m:\u001b[0m\u001b[1;33m\u001b[0m\u001b[1;33m\u001b[0m\u001b[0m\n",
      "\u001b[1;32mc:\\python3.7\\lib\\site-packages\\docplex\\mp\\error_handler.py\u001b[0m in \u001b[0;36mfatal_limits_exceeded\u001b[1;34m(self)\u001b[0m\n\u001b[0;32m    212\u001b[0m     \u001b[1;32mdef\u001b[0m \u001b[0mfatal_limits_exceeded\u001b[0m\u001b[1;33m(\u001b[0m\u001b[0mself\u001b[0m\u001b[1;33m)\u001b[0m\u001b[1;33m:\u001b[0m\u001b[1;33m\u001b[0m\u001b[1;33m\u001b[0m\u001b[0m\n\u001b[0;32m    213\u001b[0m         \u001b[0mdocplex_error_stop_here\u001b[0m\u001b[1;33m(\u001b[0m\u001b[1;33m)\u001b[0m\u001b[1;33m\u001b[0m\u001b[1;33m\u001b[0m\u001b[0m\n\u001b[1;32m--> 214\u001b[1;33m         \u001b[1;32mraise\u001b[0m \u001b[0mDOcplexLimitsExceeded\u001b[0m\u001b[1;33m(\u001b[0m\u001b[1;33m)\u001b[0m\u001b[1;33m\u001b[0m\u001b[1;33m\u001b[0m\u001b[0m\n\u001b[0m\u001b[0;32m    215\u001b[0m \u001b[1;33m\u001b[0m\u001b[0m\n\u001b[0;32m    216\u001b[0m \u001b[1;33m\u001b[0m\u001b[0m\n",
      "\u001b[1;31mDOcplexLimitsExceeded\u001b[0m: **** Promotional version. Problem size limits exceeded, CPLEX code=1016"
     ]
    }
   ],
   "source": [
    "#Function to minimize\n",
    "f4.minimize(f4.sum(c[i, j]*x[i, j] for i in V for j in V))\n",
    "\n",
    "#Constraints\n",
    "f4.add_constraints(f4.sum(x[i, j] for i in V) == 1 for j in Vo) #17\n",
    "\n",
    "f4.add_constraints(f4.sum(x[j, i] for i in V) == 1 for j in Vo) #18\n",
    "\n",
    "f4.add_constraint(f4.sum(x[0, j] for j in V) <= m ) #19\n",
    "\n",
    "f4.add_constraint(f4.sum(x[0, j] for j in Vo) == f4.sum(x[i, n-1] for i in Vo)) #20\n",
    "\n",
    "for i in range(1, len(Vo) + 1):\n",
    "    for S in itertools.permutations(Vo, i):\n",
    "        f4.add_constraint(f4.sum(x[i, j] for j in S for i in S) <= len(S)-1) # 21\n",
    "        \n",
    "f4.add_constraints((f[i,j] + g[j,i]) == Q * x[i,j] for i in V for j in V)       #22\n",
    "f4.add_constraints((f4.sum((f[j, i] - g[i,j]) for i in V) - f4.sum((f[i, j] - g[j,i]) for i in V)) == 2*q[j] for j in Vo) #23\n",
    "f4.add_constraint(f4.sum(f[0,j] for j in Vo) >= f4.max(0, -Qtot)) #24\n",
    "f4.add_constraint(f4.sum(f[j,end] for j in Vo) >= f4.max(0, Qtot)) #25\n",
    "\n",
    "f4.add_constraint((f4.sum(g[j,0] for j in Vo) <= min(m*Q, m*Q + Qtot)))                   #26\n",
    "f4.add_constraints((max(0,q[i],-q[j]) * x[i,j]) <= f[i,j] for i in V for j in V)                   #27_1\n",
    "f4.add_constraints(f[i,j] <= (min(Q,Q + q[i],Q -q[j]) * x[i,j])  for i in V for j in V)                   #27_2\n",
    "f4.add_constraints(((Q - min(Q, Q + q[i], Q - q[j])) * x[i,j]) <= g[i,j] for i in V for j in V)                 #28_1\n",
    "f4.add_constraints(g[i,j] <= ((Q - max(0, q[i], - q[j])) * x[i,j])  for i in V for j in V)                   #28_2\n",
    "\n",
    "solutionF4 = f4.solve(log_output=True)"
   ]
  },
  {
   "cell_type": "code",
   "execution_count": null,
   "metadata": {},
   "outputs": [],
   "source": [
    "print(solutionF4)\n"
   ]
  },
  {
   "cell_type": "code",
   "execution_count": null,
   "metadata": {},
   "outputs": [],
   "source": [
    "print(solutionF4.solve_details)\n"
   ]
  },
  {
   "cell_type": "code",
   "execution_count": null,
   "metadata": {},
   "outputs": [],
   "source": [
    "active_arcs = [a for a in A if x[a].solution_value > 0.9]\n",
    "plt.scatter(loc_x[1:], loc_y[1:], c='b')\n",
    "for i in V:\n",
    "    plt.annotate('$q_%d=%d$' % (i, q[i]), (loc_x[i]+2, loc_y[i]))\n",
    "for i, j in active_arcs:\n",
    "    plt.plot([loc_x[i], loc_x[j]], [loc_y[i], loc_y[j]], c='g', alpha=0.3)\n",
    "plt.plot(loc_x[0], loc_y[0], c='r', marker='s')\n",
    "plt.axis('equal')"
   ]
  }
 ],
 "metadata": {
  "kernelspec": {
   "display_name": "Python 3",
   "language": "python",
   "name": "python3"
  },
  "language_info": {
   "codemirror_mode": {
    "name": "ipython",
    "version": 3
   },
   "file_extension": ".py",
   "mimetype": "text/x-python",
   "name": "python",
   "nbconvert_exporter": "python",
   "pygments_lexer": "ipython3",
   "version": "3.7.3"
  }
 },
 "nbformat": 4,
 "nbformat_minor": 4
}
