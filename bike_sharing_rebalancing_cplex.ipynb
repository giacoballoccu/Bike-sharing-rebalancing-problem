{
 "cells": [
  {
   "cell_type": "markdown",
   "metadata": {},
   "source": [
    "# Bike Sharing Rebalancing Problem"
   ]
  },
  {
   "cell_type": "markdown",
   "metadata": {},
   "source": [
    "The following implementation is derivated from the following paper: https://www.sciencedirect.com/science/article/abs/pii/S0305048313001187\n"
   ]
  },
  {
   "cell_type": "markdown",
   "metadata": {},
   "source": [
    "## Introduction"
   ]
  },
  {
   "cell_type": "markdown",
   "metadata": {},
   "source": [
    "| Variable Name  | Description |\n",
    "| ------------- | ------------- |\n",
    "| <i>V</i>   | Set of vertices |\n",
    "| <i>A</i>   | Set of arcs  |\n",
    "| <i>n</i>   | Number of stations |\n",
    "| <i>m</i>   |  Number of vehicles  |\n",
    "| <i>Q</i>   | Vehicle capacity |\n",
    "| <i>q<sub>i</sub></i>  |  Demand at vertex i  |\n",
    "| <i>c<sub>ij</sub></i>  |  Cost of arc (i,j)  |"
   ]
  },
  {
   "cell_type": "markdown",
   "metadata": {},
   "source": []
  },
  {
   "cell_type": "code",
   "execution_count": 79,
   "metadata": {},
   "outputs": [],
   "source": [
    "#Importing cplex API\n",
    "import sys\n",
    "import docplex.cp\n",
    "\n",
    "#Importing numpy and random generator\n",
    "import numpy as np\n",
    "rand = np.random\n",
    "\n",
    "#Importing pyplot\n",
    "import matplotlib.pyplot as plt\n",
    "\n",
    "#Importing docplex model\n",
    "from docplex.mp.model import Model\n",
    "import itertools"
   ]
  },
  {
   "cell_type": "code",
   "execution_count": 80,
   "metadata": {},
   "outputs": [
    {
     "data": {
      "text/plain": [
       "[(0, 0),\n",
       " (0, 1),\n",
       " (0, 2),\n",
       " (0, 3),\n",
       " (0, 4),\n",
       " (0, 5),\n",
       " (0, 6),\n",
       " (0, 7),\n",
       " (1, 0),\n",
       " (1, 1),\n",
       " (1, 2),\n",
       " (1, 3),\n",
       " (1, 4),\n",
       " (1, 5),\n",
       " (1, 6),\n",
       " (1, 7),\n",
       " (2, 0),\n",
       " (2, 1),\n",
       " (2, 2),\n",
       " (2, 3),\n",
       " (2, 4),\n",
       " (2, 5),\n",
       " (2, 6),\n",
       " (2, 7),\n",
       " (3, 0),\n",
       " (3, 1),\n",
       " (3, 2),\n",
       " (3, 3),\n",
       " (3, 4),\n",
       " (3, 5),\n",
       " (3, 6),\n",
       " (3, 7),\n",
       " (4, 0),\n",
       " (4, 1),\n",
       " (4, 2),\n",
       " (4, 3),\n",
       " (4, 4),\n",
       " (4, 5),\n",
       " (4, 6),\n",
       " (4, 7),\n",
       " (5, 0),\n",
       " (5, 1),\n",
       " (5, 2),\n",
       " (5, 3),\n",
       " (5, 4),\n",
       " (5, 5),\n",
       " (5, 6),\n",
       " (5, 7),\n",
       " (6, 0),\n",
       " (6, 1),\n",
       " (6, 2),\n",
       " (6, 3),\n",
       " (6, 4),\n",
       " (6, 5),\n",
       " (6, 6),\n",
       " (6, 7),\n",
       " (7, 0),\n",
       " (7, 1),\n",
       " (7, 2),\n",
       " (7, 3),\n",
       " (7, 4),\n",
       " (7, 5),\n",
       " (7, 6),\n",
       " (7, 7)]"
      ]
     },
     "execution_count": 80,
     "metadata": {},
     "output_type": "execute_result"
    }
   ],
   "source": [
    "#Initial values\n",
    "n = 6                                      # amount of stations (Reggio-Emilia)\n",
    "m = 2                                            # amount of vehicles\n",
    "Q = 10                                           # vehicles capacity\n",
    "end = n + 1\n",
    "Vo = [i for i in range(1, n+1)] # stations without starting and ending deposit   \n",
    "V = [0] + Vo + [end] \n",
    "#A = [(i, j) for i in V for j in V]           # edges A_tilde\n",
    "A_tilde = [(i, j) for i in V for j in V]  \n",
    "q = {i: rand.randint(-Q, Q) for i in V}           # demand along edges\n",
    "#q[0] = 0\n",
    "q[n+1] = 0\n",
    "Qtot = sum(q.values()) - q[0] - q[n+1]\n",
    "A_tilde"
   ]
  },
  {
   "cell_type": "code",
   "execution_count": 81,
   "metadata": {
    "scrolled": true
   },
   "outputs": [
    {
     "data": {
      "text/plain": [
       "{(0, 0): inf,\n",
       " (0, 1): 250.1520815105528,\n",
       " (0, 2): 287.8641390358233,\n",
       " (0, 3): 386.06950688280597,\n",
       " (0, 4): 139.42886649630734,\n",
       " (0, 5): 447.0344714089012,\n",
       " (0, 6): 415.39561589434703,\n",
       " (0, 7): 0.0,\n",
       " (1, 0): inf,\n",
       " (1, 1): 0.0,\n",
       " (1, 2): 117.4092808765955,\n",
       " (1, 3): 158.9295622730866,\n",
       " (1, 4): 292.87547446970285,\n",
       " (1, 5): 214.92827403897562,\n",
       " (1, 6): 401.9879810473423,\n",
       " (1, 7): 250.1520815105528,\n",
       " (2, 0): inf,\n",
       " (2, 1): 117.4092808765955,\n",
       " (2, 2): 0.0,\n",
       " (2, 3): 243.9932327862977,\n",
       " (2, 4): 372.49560301008523,\n",
       " (2, 5): 286.20915964345085,\n",
       " (2, 6): 518.3949716524484,\n",
       " (2, 7): 287.8641390358233,\n",
       " (3, 0): inf,\n",
       " (3, 1): 158.9295622730866,\n",
       " (3, 2): 243.9932327862977,\n",
       " (3, 3): 0.0,\n",
       " (3, 4): 381.89730707275834,\n",
       " (3, 5): 61.041009700826905,\n",
       " (3, 6): 365.0828676850085,\n",
       " (3, 7): 386.06950688280597,\n",
       " (4, 0): inf,\n",
       " (4, 1): 292.87547446970285,\n",
       " (4, 2): 372.49560301008523,\n",
       " (4, 3): 381.89730707275834,\n",
       " (4, 4): 0.0,\n",
       " (4, 5): 440.40222725575615,\n",
       " (4, 6): 293.2878516116278,\n",
       " (4, 7): 139.42886649630734,\n",
       " (5, 0): inf,\n",
       " (5, 1): 214.92827403897562,\n",
       " (5, 2): 286.20915964345085,\n",
       " (5, 3): 61.041009700826905,\n",
       " (5, 4): 440.40222725575615,\n",
       " (5, 5): 0.0,\n",
       " (5, 6): 395.66171565718247,\n",
       " (5, 7): 447.0344714089012,\n",
       " (6, 0): inf,\n",
       " (6, 1): 401.9879810473423,\n",
       " (6, 2): 518.3949716524484,\n",
       " (6, 3): 365.0828676850085,\n",
       " (6, 4): 293.2878516116278,\n",
       " (6, 5): 395.66171565718247,\n",
       " (6, 6): 0.0,\n",
       " (6, 7): 415.39561589434703,\n",
       " (7, 0): inf,\n",
       " (7, 1): inf,\n",
       " (7, 2): inf,\n",
       " (7, 3): inf,\n",
       " (7, 4): inf,\n",
       " (7, 5): inf,\n",
       " (7, 6): inf,\n",
       " (7, 7): inf}"
      ]
     },
     "execution_count": 81,
     "metadata": {},
     "output_type": "execute_result"
    }
   ],
   "source": [
    "# Generating random coordinates and computing the distances using euclidian distance\n",
    "coord = rand.rand(len(V), 2) * 500\n",
    "c = {(i, j): \n",
    "        float('Inf') if i == n+1 else np.hypot(coord[i][0]-coord[j][0], coord[i][1]-coord[j][1]) \n",
    "             for i, j in A_tilde}       \n",
    "for i in c.keys():\n",
    "    if i[0] == 0 and i[1] == n+1:\n",
    "        c[i] = 0.0\n",
    "    elif i[1] == n+1:\n",
    "        c[i] = c[i[0], 0]\n",
    "for i in c.keys():\n",
    "    if i[1] == 0:\n",
    "        c[i] = float('inf')\n",
    "c"
   ]
  },
  {
   "cell_type": "code",
   "execution_count": 82,
   "metadata": {},
   "outputs": [
    {
     "data": {
      "text/plain": [
       "(-5.620465289685466,\n",
       " 500.0357194535494,\n",
       " -0.06144071048925426,\n",
       " 453.4779695110639)"
      ]
     },
     "execution_count": 82,
     "metadata": {},
     "output_type": "execute_result"
    },
    {
     "data": {
      "image/png": "[encoded data removed]",
      "text/plain": [
       "<Figure size 432x288 with 1 Axes>"
      ]
     },
     "metadata": {
      "needs_background": "light"
     },
     "output_type": "display_data"
    }
   ],
   "source": [
    "for point in coord[1:]:   \n",
    "    plt.scatter(point[0], point[1], c='b')\n",
    "\n",
    "for i in V:\n",
    "    plt.annotate('$q_%d=%d$' % (i, q[i]), (coord[i][0], coord[i][1]+10))\n",
    "\n",
    "plt.plot(coord[0][0], coord[0][1], c='r', marker='s') #marker=(5, 1)\n",
    "plt.plot(coord[end][0], coord[end][1], c='r', marker='s') \n",
    "plt.axis('equal')"
   ]
  },
  {
   "cell_type": "code",
   "execution_count": 83,
   "metadata": {},
   "outputs": [],
   "source": [
    "# Model\n",
    "f4 = Model('Formulation-F4')\n",
    "\n",
    "# Decision variables\n",
    "x = f4.binary_var_dict(A_tilde, name='x')\n",
    "f = f4.continuous_var_dict(A_tilde, name='f')\n",
    "g = f4.continuous_var_dict(A_tilde, name='g')"
   ]
  },
  {
   "cell_type": "code",
   "execution_count": null,
   "metadata": {},
   "outputs": [],
   "source": []
  },
  {
   "cell_type": "code",
   "execution_count": 84,
   "metadata": {
    "scrolled": false
   },
   "outputs": [
    {
     "name": "stdout",
     "output_type": "stream",
     "text": [
      "Version identifier: 12.10.0.0 | 2019-11-26 | 843d4de2ae\n",
      "CPXPARAM_Read_DataCheck                          1\n",
      "CPXPARAM_RandomSeed                              201903125\n",
      "Tried aggregator 5 times.\n",
      "MIP Presolve eliminated 2081 rows and 38 columns.\n",
      "MIP Presolve modified 186 coefficients.\n",
      "Aggregator did 54 substitutions.\n",
      "Reduced MIP has 164 rows, 100 columns, and 819 nonzeros.\n",
      "Reduced MIP has 38 binaries, 0 generals, 0 SOSs, and 0 indicators.\n",
      "Presolve time = 0.03 sec. (13.62 ticks)\n",
      "Found incumbent of value 7.0000000e+20 after 0.03 sec. (14.78 ticks)\n",
      "Probing time = 0.00 sec. (0.24 ticks)\n",
      "Tried aggregator 1 time.\n",
      "Detecting symmetries...\n",
      "Reduced MIP has 164 rows, 100 columns, and 819 nonzeros.\n",
      "Reduced MIP has 38 binaries, 0 generals, 0 SOSs, and 0 indicators.\n",
      "Presolve time = 0.01 sec. (0.68 ticks)\n",
      "Probing time = 0.00 sec. (0.24 ticks)\n",
      "Clique table members: 33.\n",
      "MIP emphasis: balance optimality and feasibility.\n",
      "MIP search method: dynamic search.\n",
      "Parallel mode: deterministic, using up to 8 threads.\n",
      "Root relaxation solution time = 0.00 sec. (0.74 ticks)\n",
      "\n",
      "        Nodes                                         Cuts/\n",
      "   Node  Left     Objective  IInf  Best Integer    Best Bound    ItCnt     Gap\n",
      "\n",
      "*     0+    0                       7.00000e+20        0.0000           100.00%\n",
      "*     0+    0                       3.00000e+20        0.0000           100.00%\n",
      "      0     0        0.0000    10   3.00000e+20        0.0000       75  100.00%\n",
      "*     0+    0                            0.0000        0.0000             0.00%\n",
      "      0     0        cutoff              0.0000        0.0000       75    0.00%\n",
      "Elapsed time = 0.06 sec. (17.27 ticks, tree = 0.01 MB, solutions = 3)\n",
      "\n",
      "Root node processing (before b&c):\n",
      "  Real time             =    0.06 sec. (17.28 ticks)\n",
      "Parallel b&c, 8 threads:\n",
      "  Real time             =    0.00 sec. (0.00 ticks)\n",
      "  Sync time (average)   =    0.00 sec.\n",
      "  Wait time (average)   =    0.00 sec.\n",
      "                          ------------\n",
      "Total (root+branch&cut) =    0.06 sec. (17.28 ticks)\n",
      "Version identifier: 12.10.0.0 | 2019-11-26 | 843d4de2ae\n",
      "CPXPARAM_Read_DataCheck                          1\n",
      "CPXPARAM_RandomSeed                              201903125\n",
      "4 of 4 MIP starts provided solutions.\n",
      "MIP start 'm1' defined initial solution with objective 2051.2432.\n",
      "Tried aggregator 5 times.\n",
      "MIP Presolve eliminated 2081 rows and 38 columns.\n",
      "MIP Presolve modified 186 coefficients.\n",
      "Aggregator did 54 substitutions.\n",
      "Reduced MIP has 164 rows, 100 columns, and 819 nonzeros.\n",
      "Reduced MIP has 38 binaries, 0 generals, 0 SOSs, and 0 indicators.\n",
      "Presolve time = 0.02 sec. (13.62 ticks)\n",
      "Probing time = 0.00 sec. (0.24 ticks)\n",
      "Tried aggregator 1 time.\n",
      "Detecting symmetries...\n",
      "Reduced MIP has 164 rows, 100 columns, and 819 nonzeros.\n",
      "Reduced MIP has 38 binaries, 0 generals, 0 SOSs, and 0 indicators.\n",
      "Presolve time = 0.00 sec. (0.68 ticks)\n",
      "\n",
      "Root node processing (before b&c):\n",
      "  Real time             =    0.05 sec. (16.30 ticks)\n",
      "Parallel b&c, 8 threads:\n",
      "  Real time             =    0.00 sec. (0.00 ticks)\n",
      "  Sync time (average)   =    0.00 sec.\n",
      "  Wait time (average)   =    0.00 sec.\n",
      "                          ------------\n",
      "Total (root+branch&cut) =    0.05 sec. (16.30 ticks)\n"
     ]
    },
    {
     "data": {
      "text/plain": [
       "docplex.mp.solution.SolveSolution(obj=2051.24,values={x_0_1:1,x_1_6:1,x_.."
      ]
     },
     "execution_count": 84,
     "metadata": {},
     "output_type": "execute_result"
    }
   ],
   "source": [
    "#Function to minimize\n",
    "f4.minimize(f4.sum(c[i, j]*x[i, j] for i in V for j in V))\n",
    "\n",
    "#Constraints\n",
    "f4.add_constraints(f4.sum(x[i, j] for i in V) == 1 for j in Vo) #17\n",
    "f4.add_constraints(f4.sum(x[j, i] for i in V) == 1 for j in Vo) #18\n",
    "f4.add_constraint(f4.sum(x[0, j] for j in V) <= m ) #19\n",
    "f4.add_constraint(f4.sum(x[0, j] for j in Vo) == f4.sum(x[i, n-1] for i in Vo)) #20\n",
    "\n",
    "for i in range(1, len(Vo) + 1):\n",
    "    for S in itertools.permutations(Vo, i):\n",
    "        f4.add_constraint(f4.sum(x[i, j] for j in S for i in S) <= len(S)-1) # 21\n",
    "        \n",
    "f4.add_constraints((f[i,j] + g[j,i]) == Q * x[i,j] for i in V for j in V)       #22\n",
    "f4.add_constraints((f4.sum((f[j, i] - g[i,j]) for i in V) - f4.sum((f[i, j] - g[j,i]) for i in V)) == 2*q[j] for j in Vo) #23\n",
    "f4.add_constraint(f4.sum(f[0,j] for j in Vo) >= f4.max(0, -Qtot)) #24\n",
    "f4.add_constraint(f4.sum(f[j,end] for j in Vo) >= f4.max(0, Qtot)) #25\n",
    "f4.add_constraint((f4.sum(g[j,0] for j in Vo) <= min(m*Q, m*Q + Qtot)))                   #26\n",
    "\n",
    "f4.add_constraints((max(0,q[i],-q[j]) * x[i,j]) <= f[i,j] for i in V for j in V)                   #27_1\n",
    "f4.add_constraints(f[i,j] <= (min(Q,Q + q[i],Q -q[j]) * x[i,j])  for i in V for j in V)                   #27_2\n",
    "\n",
    "f4.add_constraints(((Q - min(Q, Q + q[i], Q - q[j])) * x[i,j]) <= g[j,i] for i in V for j in V)                 #28_1\n",
    "f4.add_constraints((g[j,i] <= (Q - max(0, q[i], -q[j])) * x[i,j]) for i in V for j in V)                   #28_2\n",
    "\n",
    "\n",
    "solutionF4 = f4.solve(log_output=True)\n",
    "f4.solve(log_output=True)\n"
   ]
  },
  {
   "cell_type": "code",
   "execution_count": 85,
   "metadata": {},
   "outputs": [
    {
     "name": "stdout",
     "output_type": "stream",
     "text": [
      "solution for: Formulation-F4\n",
      "objective: 0\n",
      "x_0_1=1\n",
      "x_1_6=1\n",
      "x_2_5=1\n",
      "x_3_7=1\n",
      "x_4_2=1\n",
      "x_5_3=1\n",
      "x_6_4=1\n",
      "f_0_1=5.000\n",
      "f_1_6=8.000\n",
      "f_2_5=9.000\n",
      "f_3_7=1.000\n",
      "f_4_2=5.000\n",
      "f_6_4=1.000\n",
      "g_1_0=5.000\n",
      "g_2_4=5.000\n",
      "g_3_5=10.000\n",
      "g_4_6=9.000\n",
      "g_5_2=1.000\n",
      "g_6_1=2.000\n",
      "g_7_3=9.000\n",
      "\n"
     ]
    }
   ],
   "source": [
    "print(solutionF4)\n"
   ]
  },
  {
   "cell_type": "code",
   "execution_count": 86,
   "metadata": {},
   "outputs": [
    {
     "name": "stdout",
     "output_type": "stream",
     "text": [
      "status  = integer optimal solution\n",
      "time    = 0.094 s.\n",
      "problem = MILP\n",
      "gap     = 0%\n",
      "\n"
     ]
    }
   ],
   "source": [
    "print(solutionF4.solve_details)\n"
   ]
  },
  {
   "cell_type": "code",
   "execution_count": 87,
   "metadata": {},
   "outputs": [
    {
     "data": {
      "text/plain": [
       "[(0, 1), (1, 6), (2, 5), (3, 7), (4, 2), (5, 3), (6, 4)]"
      ]
     },
     "execution_count": 87,
     "metadata": {},
     "output_type": "execute_result"
    },
    {
     "data": {
      "image/png": "[encoded data removed]",
      "text/plain": [
       "<Figure size 432x288 with 1 Axes>"
      ]
     },
     "metadata": {
      "needs_background": "light"
     },
     "output_type": "display_data"
    }
   ],
   "source": []
  },
  {
   "cell_type": "code",
   "execution_count": 88,
   "metadata": {},
   "outputs": [
    {
     "data": {
      "text/plain": [
       "[(0, 1), (1, 6), (2, 5), (3, 7), (4, 2), (5, 3), (6, 4)]"
      ]
     },
     "execution_count": 88,
     "metadata": {},
     "output_type": "execute_result"
    },
    {
     "data": {
      "image/png": "[encoded data removed]",
      "text/plain": [
       "<Figure size 432x288 with 1 Axes>"
      ]
     },
     "metadata": {
      "needs_background": "light"
     },
     "output_type": "display_data"
    }
   ],
   "source": [
    "active_arcs = [a for a in A_tilde if x[a].solution_value > 0.9]\n",
    "\n",
    "for point in coord[1:]:   \n",
    "    plt.scatter(point[0], point[1], c='b')\n",
    "    \n",
    "for i in V:\n",
    "    plt.annotate('$q_%d=%d$' % (i, q[i]), (coord[i][0]+2, coord[i][1]))\n",
    "    \n",
    "for i, j in active_arcs:\n",
    "    plt.plot([coord[i][0], coord[j][0]], [coord[i][1], coord[j][1]], c='g', alpha=0.3)\n",
    "    \n",
    "plt.plot(coord[0][0], coord[0][1], c='r', marker='s') # Starting depot\n",
    "plt.plot(coord[n+1][0], coord[n+1][1], c='r', marker='s') # Ending depot\n",
    "plt.axis('equal')\n",
    "\n",
    "active_arcs"
   ]
  },
  {
   "cell_type": "code",
   "execution_count": null,
   "metadata": {},
   "outputs": [],
   "source": []
  },
  {
   "cell_type": "code",
   "execution_count": null,
   "metadata": {},
   "outputs": [],
   "source": []
  }
 ],
 "metadata": {
  "kernelspec": {
   "display_name": "Python 3",
   "language": "python",
   "name": "python3"
  },
  "language_info": {
   "codemirror_mode": {
    "name": "ipython",
    "version": 3
   },
   "file_extension": ".py",
   "mimetype": "text/x-python",
   "name": "python",
   "nbconvert_exporter": "python",
   "pygments_lexer": "ipython3",
   "version": "3.7.3"
  }
 },
 "nbformat": 4,
 "nbformat_minor": 4
}
